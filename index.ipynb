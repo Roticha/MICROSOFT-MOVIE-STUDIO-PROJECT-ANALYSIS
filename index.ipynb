{
 "cells": [
  {
   "cell_type": "code",
   "execution_count": 1,
   "metadata": {},
   "outputs": [],
   "source": [
    "import csv\n",
    "import pandas as pd\n",
    "import sqlite3\n",
    "import os"
   ]
  },
  {
   "cell_type": "code",
   "execution_count": 2,
   "metadata": {},
   "outputs": [],
   "source": [
    "#Loading CSV Files\n",
    "box_office_data = pd.read_csv(\"bom.movie_gross.csv.gz\")"
   ]
  },
  {
   "cell_type": "code",
   "execution_count": 13,
   "metadata": {},
   "outputs": [],
   "source": [
    "#Loading SQLite Database\n",
    "conn = sqlite3.connect(\"im.db\")"
   ]
  },
  {
   "cell_type": "code",
   "execution_count": 4,
   "metadata": {},
   "outputs": [
    {
     "data": {
      "text/html": [
       "<div>\n",
       "<style scoped>\n",
       "    .dataframe tbody tr th:only-of-type {\n",
       "        vertical-align: middle;\n",
       "    }\n",
       "\n",
       "    .dataframe tbody tr th {\n",
       "        vertical-align: top;\n",
       "    }\n",
       "\n",
       "    .dataframe thead th {\n",
       "        text-align: right;\n",
       "    }\n",
       "</style>\n",
       "<table border=\"1\" class=\"dataframe\">\n",
       "  <thead>\n",
       "    <tr style=\"text-align: right;\">\n",
       "      <th></th>\n",
       "      <th>title</th>\n",
       "      <th>studio</th>\n",
       "      <th>domestic_gross</th>\n",
       "      <th>foreign_gross</th>\n",
       "      <th>year</th>\n",
       "    </tr>\n",
       "  </thead>\n",
       "  <tbody>\n",
       "    <tr>\n",
       "      <th>0</th>\n",
       "      <td>Toy Story 3</td>\n",
       "      <td>BV</td>\n",
       "      <td>415000000.0</td>\n",
       "      <td>652000000</td>\n",
       "      <td>2010</td>\n",
       "    </tr>\n",
       "    <tr>\n",
       "      <th>1</th>\n",
       "      <td>Alice in Wonderland (2010)</td>\n",
       "      <td>BV</td>\n",
       "      <td>334200000.0</td>\n",
       "      <td>691300000</td>\n",
       "      <td>2010</td>\n",
       "    </tr>\n",
       "    <tr>\n",
       "      <th>2</th>\n",
       "      <td>Harry Potter and the Deathly Hallows Part 1</td>\n",
       "      <td>WB</td>\n",
       "      <td>296000000.0</td>\n",
       "      <td>664300000</td>\n",
       "      <td>2010</td>\n",
       "    </tr>\n",
       "    <tr>\n",
       "      <th>3</th>\n",
       "      <td>Inception</td>\n",
       "      <td>WB</td>\n",
       "      <td>292600000.0</td>\n",
       "      <td>535700000</td>\n",
       "      <td>2010</td>\n",
       "    </tr>\n",
       "    <tr>\n",
       "      <th>4</th>\n",
       "      <td>Shrek Forever After</td>\n",
       "      <td>P/DW</td>\n",
       "      <td>238700000.0</td>\n",
       "      <td>513900000</td>\n",
       "      <td>2010</td>\n",
       "    </tr>\n",
       "  </tbody>\n",
       "</table>\n",
       "</div>"
      ],
      "text/plain": [
       "                                         title studio  domestic_gross  \\\n",
       "0                                  Toy Story 3     BV     415000000.0   \n",
       "1                   Alice in Wonderland (2010)     BV     334200000.0   \n",
       "2  Harry Potter and the Deathly Hallows Part 1     WB     296000000.0   \n",
       "3                                    Inception     WB     292600000.0   \n",
       "4                          Shrek Forever After   P/DW     238700000.0   \n",
       "\n",
       "  foreign_gross  year  \n",
       "0     652000000  2010  \n",
       "1     691300000  2010  \n",
       "2     664300000  2010  \n",
       "3     535700000  2010  \n",
       "4     513900000  2010  "
      ]
     },
     "execution_count": 4,
     "metadata": {},
     "output_type": "execute_result"
    }
   ],
   "source": [
    "box_office_data.head()"
   ]
  },
  {
   "cell_type": "code",
   "execution_count": 14,
   "metadata": {},
   "outputs": [
    {
     "name": "stdout",
     "output_type": "stream",
     "text": [
      "Available tables:             name\n",
      "0   movie_basics\n",
      "1      directors\n",
      "2      known_for\n",
      "3     movie_akas\n",
      "4  movie_ratings\n",
      "5        persons\n",
      "6     principals\n",
      "7        writers\n"
     ]
    }
   ],
   "source": [
    "table_list_query = \"SELECT name FROM sqlite_master WHERE type='table';\"\n",
    "tables = pd.read_sql_query(table_list_query, conn)\n",
    "\n",
    "print(\"Available tables:\", tables)"
   ]
  },
  {
   "cell_type": "code",
   "execution_count": 15,
   "metadata": {},
   "outputs": [
    {
     "name": "stdout",
     "output_type": "stream",
     "text": [
      "     movie_id  averagerating  numvotes\n",
      "0  tt10356526            8.3        31\n",
      "1  tt10384606            8.9       559\n",
      "2   tt1042974            6.4        20\n",
      "3   tt1043726            4.2     50352\n",
      "4   tt1060240            6.5        21\n",
      "    movie_id                    primary_title              original_title  \\\n",
      "0  tt0063540                        Sunghursh                   Sunghursh   \n",
      "1  tt0066787  One Day Before the Rainy Season             Ashad Ka Ek Din   \n",
      "2  tt0069049       The Other Side of the Wind  The Other Side of the Wind   \n",
      "3  tt0069204                  Sabse Bada Sukh             Sabse Bada Sukh   \n",
      "4  tt0100275         The Wandering Soap Opera       La Telenovela Errante   \n",
      "\n",
      "   start_year  runtime_minutes                genres  \n",
      "0        2013            175.0    Action,Crime,Drama  \n",
      "1        2019            114.0       Biography,Drama  \n",
      "2        2018            122.0                 Drama  \n",
      "3        2018              NaN          Comedy,Drama  \n",
      "4        2017             80.0  Comedy,Drama,Fantasy  \n"
     ]
    }
   ],
   "source": [
    "movie_ratings = pd.read_sql(\"\"\"SELECT * FROM movie_ratings;\"\"\", conn)\n",
    "movie_basics = pd.read_sql(\"\"\"SELECT * FROM movie_basics;\"\"\", conn)\n",
    "\n",
    "conn.close()\n",
    "\n",
    "print(movie_ratings.head())\n",
    "print(movie_basics.head())"
   ]
  },
  {
   "cell_type": "code",
   "execution_count": 16,
   "metadata": {},
   "outputs": [
    {
     "name": "stdout",
     "output_type": "stream",
     "text": [
      "    movie_id                    primary_title              original_title  \\\n",
      "0  tt0063540                        Sunghursh                   Sunghursh   \n",
      "1  tt0066787  One Day Before the Rainy Season             Ashad Ka Ek Din   \n",
      "2  tt0069049       The Other Side of the Wind  The Other Side of the Wind   \n",
      "3  tt0069204                  Sabse Bada Sukh             Sabse Bada Sukh   \n",
      "4  tt0100275         The Wandering Soap Opera       La Telenovela Errante   \n",
      "\n",
      "   start_year  runtime_minutes                genres  averagerating  numvotes  \n",
      "0        2013            175.0    Action,Crime,Drama            7.0      77.0  \n",
      "1        2019            114.0       Biography,Drama            7.2      43.0  \n",
      "2        2018            122.0                 Drama            6.9    4517.0  \n",
      "3        2018              NaN          Comedy,Drama            6.1      13.0  \n",
      "4        2017             80.0  Comedy,Drama,Fantasy            6.5     119.0  \n"
     ]
    }
   ],
   "source": [
    "imdb_data = pd.merge(movie_basics, movie_ratings, on='movie_id', how='left')\n",
    "\n",
    "print(imdb_data.head())"
   ]
  },
  {
   "cell_type": "code",
   "execution_count": 17,
   "metadata": {},
   "outputs": [
    {
     "name": "stdout",
     "output_type": "stream",
     "text": [
      "                                            title      studio  domestic_gross  \\\n",
      "0                                     Toy Story 3          BV     415000000.0   \n",
      "1                      Alice in Wonderland (2010)          BV     334200000.0   \n",
      "2     Harry Potter and the Deathly Hallows Part 1          WB     296000000.0   \n",
      "3                                       Inception          WB     292600000.0   \n",
      "4                             Shrek Forever After        P/DW     238700000.0   \n",
      "...                                           ...         ...             ...   \n",
      "4142                                    The Quake       Magn.          6200.0   \n",
      "4143                  Edward II (2018 re-release)          FM          4800.0   \n",
      "4144                                     El Pacto        Sony          2500.0   \n",
      "4145                                     The Swan  Synergetic          2400.0   \n",
      "4146                            An Actor Prepares       Grav.          1700.0   \n",
      "\n",
      "     foreign_gross  year   movie_id        primary_title       original_title  \\\n",
      "0        652000000  2010  tt0435761          Toy Story 3          Toy Story 3   \n",
      "1        691300000  2010        NaN                  NaN                  NaN   \n",
      "2        664300000  2010        NaN                  NaN                  NaN   \n",
      "3        535700000  2010  tt1375666            Inception            Inception   \n",
      "4        513900000  2010  tt0892791  Shrek Forever After  Shrek Forever After   \n",
      "...            ...   ...        ...                  ...                  ...   \n",
      "4142           NaN  2018  tt6523720            The Quake             Skjelvet   \n",
      "4143           NaN  2018        NaN                  NaN                  NaN   \n",
      "4144           NaN  2018        NaN                  NaN                  NaN   \n",
      "4145           NaN  2018        NaN                  NaN                  NaN   \n",
      "4146           NaN  2018  tt5718046    An Actor Prepares    An Actor Prepares   \n",
      "\n",
      "      start_year  runtime_minutes                      genres  averagerating  \\\n",
      "0         2010.0            103.0  Adventure,Animation,Comedy            8.3   \n",
      "1            NaN              NaN                         NaN            NaN   \n",
      "2            NaN              NaN                         NaN            NaN   \n",
      "3         2010.0            148.0     Action,Adventure,Sci-Fi            8.8   \n",
      "4         2010.0             93.0  Adventure,Animation,Comedy            6.3   \n",
      "...          ...              ...                         ...            ...   \n",
      "4142      2018.0            106.0       Action,Drama,Thriller            6.2   \n",
      "4143         NaN              NaN                         NaN            NaN   \n",
      "4144         NaN              NaN                         NaN            NaN   \n",
      "4145         NaN              NaN                         NaN            NaN   \n",
      "4146      2018.0             97.0                      Comedy            5.0   \n",
      "\n",
      "       numvotes  \n",
      "0      682218.0  \n",
      "1           NaN  \n",
      "2           NaN  \n",
      "3     1841066.0  \n",
      "4      167532.0  \n",
      "...         ...  \n",
      "4142     5270.0  \n",
      "4143        NaN  \n",
      "4144        NaN  \n",
      "4145        NaN  \n",
      "4146      388.0  \n",
      "\n",
      "[4147 rows x 13 columns]\n"
     ]
    }
   ],
   "source": [
    "merged_data = pd.merge(box_office_data, imdb_data, left_on='title', right_on='primary_title', how='left')\n",
    "print(merged_data)"
   ]
  },
  {
   "cell_type": "code",
   "execution_count": 18,
   "metadata": {},
   "outputs": [
    {
     "name": "stdout",
     "output_type": "stream",
     "text": [
      "title                 0\n",
      "studio                5\n",
      "domestic_gross       35\n",
      "foreign_gross      1631\n",
      "year                  0\n",
      "movie_id            781\n",
      "primary_title       781\n",
      "original_title      781\n",
      "start_year          781\n",
      "runtime_minutes     949\n",
      "genres              821\n",
      "averagerating      1120\n",
      "numvotes           1120\n",
      "dtype: int64\n"
     ]
    }
   ],
   "source": [
    "print(merged_data.isna().sum())"
   ]
  },
  {
   "cell_type": "code",
   "execution_count": 19,
   "metadata": {},
   "outputs": [],
   "source": [
    "merged_data.drop(columns=['original_title', 'start_year', 'numvotes'], inplace=True)"
   ]
  },
  {
   "cell_type": "code",
   "execution_count": 20,
   "metadata": {},
   "outputs": [
    {
     "name": "stdout",
     "output_type": "stream",
     "text": [
      "title              0\n",
      "studio             0\n",
      "domestic_gross     0\n",
      "foreign_gross      0\n",
      "year               0\n",
      "movie_id           0\n",
      "primary_title      0\n",
      "runtime_minutes    0\n",
      "genres             0\n",
      "averagerating      0\n",
      "dtype: int64\n"
     ]
    }
   ],
   "source": [
    "# filling missing studio values with 'Unknown'\n",
    "merged_data['studio'].fillna('Unknown', inplace=True)\n",
    "\n",
    "# filling missing domestic gross and foreign gross with '0'\n",
    "merged_data['domestic_gross'].fillna(0, inplace=True)\n",
    "merged_data['foreign_gross'].fillna(0, inplace=True)\n",
    "\n",
    "# finding median runtime and replacing missing runtimes\n",
    "median_runtime = merged_data['runtime_minutes'].median()\n",
    "merged_data['runtime_minutes'].fillna(median_runtime, inplace=True)\n",
    "\n",
    "# filling missing genres with 'Unknown'\n",
    "merged_data['genres'].fillna('Unknown', inplace=True)\n",
    "\n",
    "# finding mean rating and replace to missing average ratings\n",
    "mean_rating = merged_data['averagerating'].mean()\n",
    "merged_data['averagerating'].fillna(mean_rating, inplace=True)\n",
    "\n",
    "# dropping rows that do not have movie id\n",
    "merged_data.dropna(subset=['movie_id'], inplace=True)\n",
    "\n",
    "# check if there are further missing values\n",
    "print(merged_data.isna().sum())"
   ]
  },
  {
   "cell_type": "code",
   "execution_count": 21,
   "metadata": {},
   "outputs": [
    {
     "name": "stdout",
     "output_type": "stream",
     "text": [
      "                        title studio  domestic_gross foreign_gross  year  \\\n",
      "0                 Toy Story 3     BV     415000000.0     652000000  2010   \n",
      "3                   Inception     WB     292600000.0     535700000  2010   \n",
      "4         Shrek Forever After   P/DW     238700000.0     513900000  2010   \n",
      "5  The Twilight Saga: Eclipse   Sum.     300500000.0     398000000  2010   \n",
      "6                  Iron Man 2   Par.     312400000.0     311500000  2010   \n",
      "\n",
      "    movie_id               primary_title  runtime_minutes  \\\n",
      "0  tt0435761                 Toy Story 3            103.0   \n",
      "3  tt1375666                   Inception            148.0   \n",
      "4  tt0892791         Shrek Forever After             93.0   \n",
      "5  tt1325004  The Twilight Saga: Eclipse            124.0   \n",
      "6  tt1228705                  Iron Man 2            124.0   \n",
      "\n",
      "                       genres  averagerating  \n",
      "0  Adventure,Animation,Comedy            8.3  \n",
      "3     Action,Adventure,Sci-Fi            8.8  \n",
      "4  Adventure,Animation,Comedy            6.3  \n",
      "5     Adventure,Drama,Fantasy            5.0  \n",
      "6     Action,Adventure,Sci-Fi            7.0  \n"
     ]
    }
   ],
   "source": [
    "print(merged_data.head())"
   ]
  },
  {
   "cell_type": "code",
   "execution_count": 22,
   "metadata": {},
   "outputs": [
    {
     "name": "stdout",
     "output_type": "stream",
     "text": [
      "         title studio  domestic_gross foreign_gross  year   movie_id  \\\n",
      "0  Toy Story 3     BV     415000000.0     652000000  2010  tt0435761   \n",
      "1  Toy Story 3     BV     415000000.0     652000000  2010  tt0435761   \n",
      "2  Toy Story 3     BV     415000000.0     652000000  2010  tt0435761   \n",
      "3    Inception     WB     292600000.0     535700000  2010  tt1375666   \n",
      "4    Inception     WB     292600000.0     535700000  2010  tt1375666   \n",
      "\n",
      "  primary_title  runtime_minutes     genres  averagerating  \n",
      "0   Toy Story 3            103.0  Adventure            8.3  \n",
      "1   Toy Story 3            103.0  Animation            8.3  \n",
      "2   Toy Story 3            103.0     Comedy            8.3  \n",
      "3     Inception            148.0     Action            8.8  \n",
      "4     Inception            148.0  Adventure            8.8  \n"
     ]
    }
   ],
   "source": [
    "# Clean genre column\n",
    "def clean_and_explode(df, genre_column):\n",
    "    df[genre_column] = df[genre_column].str.split(',')\n",
    "    df = df.explode(genre_column).reset_index(drop=True)\n",
    "    return df\n",
    "\n",
    "merged_data = clean_and_explode(merged_data, 'genres')\n",
    "\n",
    "merged_data['averagerating'] = merged_data['averagerating'].fillna(merged_data['averagerating'].mean())\n",
    "\n",
    "print(merged_data.head())"
   ]
  },
  {
   "cell_type": "code",
   "execution_count": 23,
   "metadata": {},
   "outputs": [],
   "source": [
    "merged_data['domestic_gross'] = pd.to_numeric(merged_data['domestic_gross'], errors='coerce').fillna(0).astype(int)\n",
    "merged_data['foreign_gross'] = pd.to_numeric(merged_data['foreign_gross'], errors='coerce').fillna(0).astype(int)"
   ]
  },
  {
   "cell_type": "code",
   "execution_count": 24,
   "metadata": {},
   "outputs": [
    {
     "name": "stdout",
     "output_type": "stream",
     "text": [
      "          genre  total_domestic_gross  average_domestic_gross  \\\n",
      "1     Adventure          4.191778e+10            9.398605e+07   \n",
      "0        Action          3.843915e+10            5.789028e+07   \n",
      "4        Comedy          3.249809e+10            3.367678e+07   \n",
      "7         Drama          3.105158e+10            1.655201e+07   \n",
      "17       Sci-Fi          1.495762e+10            1.076088e+08   \n",
      "19     Thriller          1.367092e+10            2.854054e+07   \n",
      "2     Animation          1.362289e+10            8.676997e+07   \n",
      "5         Crime          9.352542e+09            2.398088e+07   \n",
      "9       Fantasy          9.288773e+09            5.247895e+07   \n",
      "16      Romance          7.331809e+09            1.517973e+07   \n",
      "11       Horror          7.088680e+09            2.715969e+07   \n",
      "3     Biography          6.420383e+09            2.098164e+07   \n",
      "8        Family          5.597358e+09            4.339037e+07   \n",
      "6   Documentary          5.443313e+09            1.629734e+07   \n",
      "14      Mystery          4.974365e+09            2.250844e+07   \n",
      "10      History          2.943172e+09            1.975284e+07   \n",
      "18        Sport          2.122595e+09            3.723851e+07   \n",
      "20      Unknown          1.726364e+09            4.315910e+07   \n",
      "12        Music          1.697182e+09            1.731819e+07   \n",
      "13      Musical          5.508563e+08            2.899244e+07   \n",
      "22      Western          5.294837e+08            2.406744e+07   \n",
      "21          War          2.814003e+08            5.309440e+06   \n",
      "15         News          2.184540e+07            3.640900e+06   \n",
      "\n",
      "    total_foreign_gross  average_foreign_gross  average_rating  \n",
      "1          7.804942e+10           1.749987e+08        6.478034  \n",
      "0          6.900419e+10           1.039220e+08        6.280175  \n",
      "4          4.639226e+10           4.807488e+07        6.256110  \n",
      "7          4.262900e+10           2.272335e+07        6.580922  \n",
      "17         2.368079e+10           1.703654e+08        6.451297  \n",
      "19         2.182380e+10           4.556117e+07        6.188094  \n",
      "2          2.587052e+10           1.647804e+08        6.692280  \n",
      "5          1.012734e+10           2.596755e+07        6.479130  \n",
      "9          1.861195e+10           1.051523e+08        6.250865  \n",
      "16         9.261870e+09           1.917571e+07        6.339262  \n",
      "11         9.251392e+09           3.544594e+07        5.746779  \n",
      "3          7.633332e+09           2.494553e+07        6.937939  \n",
      "8          8.359439e+09           6.480185e+07        6.246442  \n",
      "6          6.099421e+09           1.826174e+07        7.025034  \n",
      "14         7.247272e+09           3.279308e+07        6.286453  \n",
      "10         3.742451e+09           2.511712e+07        6.841937  \n",
      "18         2.318602e+09           4.067724e+07        6.839129  \n",
      "20         2.688589e+09           6.721472e+07        6.385005  \n",
      "12         2.191535e+09           2.236260e+07        6.738219  \n",
      "13         7.411853e+08           3.900975e+07        6.324083  \n",
      "22         7.018230e+08           3.190105e+07        6.557163  \n",
      "21         5.830160e+08           1.100030e+07        6.788965  \n",
      "15         4.800000e+07           8.000000e+06        6.885861  \n"
     ]
    }
   ],
   "source": [
    "# Aggregated Domestic and Foreign Revenue by Genre\n",
    "genre_revenue = merged_data.groupby('genres')[['domestic_gross', 'foreign_gross', 'averagerating']].agg({\n",
    "    'domestic_gross': ['sum', 'mean'],\n",
    "    'foreign_gross': ['sum', 'mean'],\n",
    "    'averagerating': 'mean'\n",
    "}).reset_index()\n",
    "\n",
    "# rename main columns for easier identity\n",
    "genre_revenue.columns = ['genre', 'total_domestic_gross', 'average_domestic_gross', 'total_foreign_gross', 'average_foreign_gross', 'average_rating']\n",
    "\n",
    "# Sort by total domestic gross revenue\n",
    "genre_revenue = genre_revenue.sort_values(by='total_domestic_gross', ascending=False)\n",
    "\n",
    "print(genre_revenue)"
   ]
  },
  {
   "cell_type": "code",
   "execution_count": null,
   "metadata": {},
   "outputs": [],
   "source": []
  }
 ],
 "metadata": {
  "kernelspec": {
   "display_name": "Python (learn-env)",
   "language": "python",
   "name": "learn-env"
  },
  "language_info": {
   "codemirror_mode": {
    "name": "ipython",
    "version": 3
   },
   "file_extension": ".py",
   "mimetype": "text/x-python",
   "name": "python",
   "nbconvert_exporter": "python",
   "pygments_lexer": "ipython3",
   "version": "3.8.5"
  }
 },
 "nbformat": 4,
 "nbformat_minor": 4
}
