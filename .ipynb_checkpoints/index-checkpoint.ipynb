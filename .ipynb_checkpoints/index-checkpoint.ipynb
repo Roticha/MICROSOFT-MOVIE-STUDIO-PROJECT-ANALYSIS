{
 "cells": [
  {
   "cell_type": "code",
   "execution_count": 1,
   "metadata": {},
   "outputs": [],
   "source": [
    "import csv\n",
    "import pandas as pd\n",
    "import sqlite3\n",
    "import os"
   ]
  },
  {
   "cell_type": "code",
   "execution_count": 2,
   "metadata": {},
   "outputs": [],
   "source": [
    "#Loading CSV Files\n",
    "box_office_data = pd.read_csv(\"bom.movie_gross.csv.gz\")"
   ]
  },
  {
   "cell_type": "code",
   "execution_count": 13,
   "metadata": {},
   "outputs": [],
   "source": [
    "#Loading SQLite Database\n",
    "conn = sqlite3.connect(\"im.db\")"
   ]
  },
  {
   "cell_type": "code",
   "execution_count": 4,
   "metadata": {},
   "outputs": [
    {
     "data": {
      "text/html": [
       "<div>\n",
       "<style scoped>\n",
       "    .dataframe tbody tr th:only-of-type {\n",
       "        vertical-align: middle;\n",
       "    }\n",
       "\n",
       "    .dataframe tbody tr th {\n",
       "        vertical-align: top;\n",
       "    }\n",
       "\n",
       "    .dataframe thead th {\n",
       "        text-align: right;\n",
       "    }\n",
       "</style>\n",
       "<table border=\"1\" class=\"dataframe\">\n",
       "  <thead>\n",
       "    <tr style=\"text-align: right;\">\n",
       "      <th></th>\n",
       "      <th>title</th>\n",
       "      <th>studio</th>\n",
       "      <th>domestic_gross</th>\n",
       "      <th>foreign_gross</th>\n",
       "      <th>year</th>\n",
       "    </tr>\n",
       "  </thead>\n",
       "  <tbody>\n",
       "    <tr>\n",
       "      <th>0</th>\n",
       "      <td>Toy Story 3</td>\n",
       "      <td>BV</td>\n",
       "      <td>415000000.0</td>\n",
       "      <td>652000000</td>\n",
       "      <td>2010</td>\n",
       "    </tr>\n",
       "    <tr>\n",
       "      <th>1</th>\n",
       "      <td>Alice in Wonderland (2010)</td>\n",
       "      <td>BV</td>\n",
       "      <td>334200000.0</td>\n",
       "      <td>691300000</td>\n",
       "      <td>2010</td>\n",
       "    </tr>\n",
       "    <tr>\n",
       "      <th>2</th>\n",
       "      <td>Harry Potter and the Deathly Hallows Part 1</td>\n",
       "      <td>WB</td>\n",
       "      <td>296000000.0</td>\n",
       "      <td>664300000</td>\n",
       "      <td>2010</td>\n",
       "    </tr>\n",
       "    <tr>\n",
       "      <th>3</th>\n",
       "      <td>Inception</td>\n",
       "      <td>WB</td>\n",
       "      <td>292600000.0</td>\n",
       "      <td>535700000</td>\n",
       "      <td>2010</td>\n",
       "    </tr>\n",
       "    <tr>\n",
       "      <th>4</th>\n",
       "      <td>Shrek Forever After</td>\n",
       "      <td>P/DW</td>\n",
       "      <td>238700000.0</td>\n",
       "      <td>513900000</td>\n",
       "      <td>2010</td>\n",
       "    </tr>\n",
       "  </tbody>\n",
       "</table>\n",
       "</div>"
      ],
      "text/plain": [
       "                                         title studio  domestic_gross  \\\n",
       "0                                  Toy Story 3     BV     415000000.0   \n",
       "1                   Alice in Wonderland (2010)     BV     334200000.0   \n",
       "2  Harry Potter and the Deathly Hallows Part 1     WB     296000000.0   \n",
       "3                                    Inception     WB     292600000.0   \n",
       "4                          Shrek Forever After   P/DW     238700000.0   \n",
       "\n",
       "  foreign_gross  year  \n",
       "0     652000000  2010  \n",
       "1     691300000  2010  \n",
       "2     664300000  2010  \n",
       "3     535700000  2010  \n",
       "4     513900000  2010  "
      ]
     },
     "execution_count": 4,
     "metadata": {},
     "output_type": "execute_result"
    }
   ],
   "source": [
    "box_office_data.head()"
   ]
  },
  {
   "cell_type": "code",
   "execution_count": 14,
   "metadata": {},
   "outputs": [
    {
     "name": "stdout",
     "output_type": "stream",
     "text": [
      "Available tables:             name\n",
      "0   movie_basics\n",
      "1      directors\n",
      "2      known_for\n",
      "3     movie_akas\n",
      "4  movie_ratings\n",
      "5        persons\n",
      "6     principals\n",
      "7        writers\n"
     ]
    }
   ],
   "source": [
    "table_list_query = \"SELECT name FROM sqlite_master WHERE type='table';\"\n",
    "tables = pd.read_sql_query(table_list_query, conn)\n",
    "\n",
    "print(\"Available tables:\", tables)"
   ]
  },
  {
   "cell_type": "code",
   "execution_count": 15,
   "metadata": {},
   "outputs": [
    {
     "name": "stdout",
     "output_type": "stream",
     "text": [
      "     movie_id  averagerating  numvotes\n",
      "0  tt10356526            8.3        31\n",
      "1  tt10384606            8.9       559\n",
      "2   tt1042974            6.4        20\n",
      "3   tt1043726            4.2     50352\n",
      "4   tt1060240            6.5        21\n",
      "    movie_id                    primary_title              original_title  \\\n",
      "0  tt0063540                        Sunghursh                   Sunghursh   \n",
      "1  tt0066787  One Day Before the Rainy Season             Ashad Ka Ek Din   \n",
      "2  tt0069049       The Other Side of the Wind  The Other Side of the Wind   \n",
      "3  tt0069204                  Sabse Bada Sukh             Sabse Bada Sukh   \n",
      "4  tt0100275         The Wandering Soap Opera       La Telenovela Errante   \n",
      "\n",
      "   start_year  runtime_minutes                genres  \n",
      "0        2013            175.0    Action,Crime,Drama  \n",
      "1        2019            114.0       Biography,Drama  \n",
      "2        2018            122.0                 Drama  \n",
      "3        2018              NaN          Comedy,Drama  \n",
      "4        2017             80.0  Comedy,Drama,Fantasy  \n"
     ]
    }
   ],
   "source": [
    "movie_ratings = pd.read_sql(\"\"\"SELECT * FROM movie_ratings;\"\"\", conn)\n",
    "movie_basics = pd.read_sql(\"\"\"SELECT * FROM movie_basics;\"\"\", conn)\n",
    "\n",
    "conn.close()\n",
    "\n",
    "print(movie_ratings.head())\n",
    "print(movie_basics.head())"
   ]
  },
  {
   "cell_type": "code",
   "execution_count": 16,
   "metadata": {},
   "outputs": [
    {
     "name": "stdout",
     "output_type": "stream",
     "text": [
      "    movie_id                    primary_title              original_title  \\\n",
      "0  tt0063540                        Sunghursh                   Sunghursh   \n",
      "1  tt0066787  One Day Before the Rainy Season             Ashad Ka Ek Din   \n",
      "2  tt0069049       The Other Side of the Wind  The Other Side of the Wind   \n",
      "3  tt0069204                  Sabse Bada Sukh             Sabse Bada Sukh   \n",
      "4  tt0100275         The Wandering Soap Opera       La Telenovela Errante   \n",
      "\n",
      "   start_year  runtime_minutes                genres  averagerating  numvotes  \n",
      "0        2013            175.0    Action,Crime,Drama            7.0      77.0  \n",
      "1        2019            114.0       Biography,Drama            7.2      43.0  \n",
      "2        2018            122.0                 Drama            6.9    4517.0  \n",
      "3        2018              NaN          Comedy,Drama            6.1      13.0  \n",
      "4        2017             80.0  Comedy,Drama,Fantasy            6.5     119.0  \n"
     ]
    }
   ],
   "source": [
    "imdb_data = pd.merge(movie_basics, movie_ratings, on='movie_id', how='left')\n",
    "\n",
    "print(imdb_data.head())"
   ]
  },
  {
   "cell_type": "code",
   "execution_count": 17,
   "metadata": {},
   "outputs": [
    {
     "name": "stdout",
     "output_type": "stream",
     "text": [
      "                                            title      studio  domestic_gross  \\\n",
      "0                                     Toy Story 3          BV     415000000.0   \n",
      "1                      Alice in Wonderland (2010)          BV     334200000.0   \n",
      "2     Harry Potter and the Deathly Hallows Part 1          WB     296000000.0   \n",
      "3                                       Inception          WB     292600000.0   \n",
      "4                             Shrek Forever After        P/DW     238700000.0   \n",
      "...                                           ...         ...             ...   \n",
      "4142                                    The Quake       Magn.          6200.0   \n",
      "4143                  Edward II (2018 re-release)          FM          4800.0   \n",
      "4144                                     El Pacto        Sony          2500.0   \n",
      "4145                                     The Swan  Synergetic          2400.0   \n",
      "4146                            An Actor Prepares       Grav.          1700.0   \n",
      "\n",
      "     foreign_gross  year   movie_id        primary_title       original_title  \\\n",
      "0        652000000  2010  tt0435761          Toy Story 3          Toy Story 3   \n",
      "1        691300000  2010        NaN                  NaN                  NaN   \n",
      "2        664300000  2010        NaN                  NaN                  NaN   \n",
      "3        535700000  2010  tt1375666            Inception            Inception   \n",
      "4        513900000  2010  tt0892791  Shrek Forever After  Shrek Forever After   \n",
      "...            ...   ...        ...                  ...                  ...   \n",
      "4142           NaN  2018  tt6523720            The Quake             Skjelvet   \n",
      "4143           NaN  2018        NaN                  NaN                  NaN   \n",
      "4144           NaN  2018        NaN                  NaN                  NaN   \n",
      "4145           NaN  2018        NaN                  NaN                  NaN   \n",
      "4146           NaN  2018  tt5718046    An Actor Prepares    An Actor Prepares   \n",
      "\n",
      "      start_year  runtime_minutes                      genres  averagerating  \\\n",
      "0         2010.0            103.0  Adventure,Animation,Comedy            8.3   \n",
      "1            NaN              NaN                         NaN            NaN   \n",
      "2            NaN              NaN                         NaN            NaN   \n",
      "3         2010.0            148.0     Action,Adventure,Sci-Fi            8.8   \n",
      "4         2010.0             93.0  Adventure,Animation,Comedy            6.3   \n",
      "...          ...              ...                         ...            ...   \n",
      "4142      2018.0            106.0       Action,Drama,Thriller            6.2   \n",
      "4143         NaN              NaN                         NaN            NaN   \n",
      "4144         NaN              NaN                         NaN            NaN   \n",
      "4145         NaN              NaN                         NaN            NaN   \n",
      "4146      2018.0             97.0                      Comedy            5.0   \n",
      "\n",
      "       numvotes  \n",
      "0      682218.0  \n",
      "1           NaN  \n",
      "2           NaN  \n",
      "3     1841066.0  \n",
      "4      167532.0  \n",
      "...         ...  \n",
      "4142     5270.0  \n",
      "4143        NaN  \n",
      "4144        NaN  \n",
      "4145        NaN  \n",
      "4146      388.0  \n",
      "\n",
      "[4147 rows x 13 columns]\n"
     ]
    }
   ],
   "source": [
    "merged_data = pd.merge(box_office_data, imdb_data, left_on='title', right_on='primary_title', how='left')\n",
    "print(merged_data)"
   ]
  },
  {
   "cell_type": "code",
   "execution_count": null,
   "metadata": {},
   "outputs": [],
   "source": []
  }
 ],
 "metadata": {
  "kernelspec": {
   "display_name": "Python (learn-env)",
   "language": "python",
   "name": "learn-env"
  },
  "language_info": {
   "codemirror_mode": {
    "name": "ipython",
    "version": 3
   },
   "file_extension": ".py",
   "mimetype": "text/x-python",
   "name": "python",
   "nbconvert_exporter": "python",
   "pygments_lexer": "ipython3",
   "version": "3.8.5"
  }
 },
 "nbformat": 4,
 "nbformat_minor": 4
}
